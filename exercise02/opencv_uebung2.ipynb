{
 "cells": [
  {
   "cell_type": "markdown",
   "metadata": {
    "collapsed": true
   },
   "source": [
    "# Übung 2: Farben"
   ]
  },
  {
   "cell_type": "markdown",
   "metadata": {},
   "source": [
    "Übung von: Remo Schwarzentruber"
   ]
  },
  {
   "cell_type": "markdown",
   "metadata": {},
   "source": [
    "### Detektion mit Farben\n",
    "\n",
    "In unserem SkinApp Projekt befassen wir uns mit der Erkennung von Hautkrankheiten, zum Beispiel auf Händen. Als erstes muss dabei die Handfläche vom Hintergrund getrennt werden. Damit dies einfacher geht, haben wir eine Photobox entwickelt, die die Hände vor grünem Hintergrund aufnimmt. Sie sollen nun untersuchen, ob es damit tatsächlich einfacher ist die Handflächen oder Handrückseiten zu finden.\n",
    "\n",
    "\n",
    "\n"
   ]
  },
  {
   "cell_type": "code",
   "execution_count": null,
   "metadata": {},
   "outputs": [],
   "source": [
    "# OpenCV needs to be included first\n",
    "import cv2\n",
    "import numpy as np\n",
    "\n",
    "# for displaying images in jupyter\n",
    "\n",
    "import matplotlib as mpl\n",
    "from matplotlib import pyplot as plt\n",
    "%matplotlib inline\n",
    "# resolution of images in figure\n",
    "mpl.rcParams['figure.dpi']= 200\n",
    "# figure size in inches\n",
    "mpl.rcParams[\"figure.figsize\"] = [10,5]\n",
    "\n"
   ]
  },
  {
   "cell_type": "markdown",
   "metadata": {},
   "source": [
    "### Aufgabe 1: Hand Segmentierung\n",
    "\n",
    "Als erstes sollen sie versuchen die Handflächen mittels der Farbe der Haut zu detektieren. Dazu ist es möglicherweise hilfreich das Bild in einer anderen Farbraum zu transferieren. Für Hautsegmentierung könnte sich zum Beispiel der YCrCb oder der HSV Farbraum einigen. Stellen Sie das Bild in diesen Farbräumen dar und suchen Sie dann entsprechende Schwellwerte um eine binäre Maske der Hand zu erstellen. Für Schwellwerte stehen in OpenCV eigentlich die Funktionen `cv.threshold()` und `cv2.inRange()` zur Verfügung, für einfache Fälle ist oft auch ein Vergleich direkt in numpy möglich."
   ]
  },
  {
   "cell_type": "code",
   "execution_count": null,
   "metadata": {},
   "outputs": [],
   "source": [
    "image_grey_back = cv2.imread('images/hand_grey_small.png')\n",
    "image_grey_back = cv2.cvtColor(image_grey_back, cv2.COLOR_BGR2RGB)\n",
    "\n",
    "# simple threshold in RGB\n",
    "min = np.array([150, 0, 0])\n",
    "max = np.array([255, 140, 150])\n",
    "\n",
    "skin_image = cv2.inRange(image_grey_back, min, max)\n",
    "\n",
    "plt.subplot(1, 2, 1)\n",
    "plt.imshow(image_grey_back)\n",
    "plt.subplot(1, 2, 2)\n",
    "plt.imshow(skin_image)"
   ]
  },
  {
   "cell_type": "markdown",
   "metadata": {},
   "source": [
    "Konvertieren sie nun das Bild in ein anderes Farbsystem und versuchen sie da ein besserer Schwellwert zu bekommen."
   ]
  },
  {
   "cell_type": "code",
   "execution_count": null,
   "metadata": {},
   "outputs": [],
   "source": [
    "image_hsv = ..."
   ]
  },
  {
   "cell_type": "markdown",
   "metadata": {},
   "source": [
    "### Aufgabe 2: Hintergrund Segmentierung\n",
    "\n",
    "Im folgenden wird ein Bild mit grünem Hintergrund geladen. Führen Sie darauf die gleiche Segmentierung wie beim oberen Bild durch und stellen Sie diese dar."
   ]
  },
  {
   "cell_type": "code",
   "execution_count": null,
   "metadata": {},
   "outputs": [],
   "source": [
    "image_green_back = cv2.imread('images/hand_green_small.png')\n",
    "image_green_back = cv2.cvtColor(image_green_back, cv2.COLOR_BGR2RGB)\n",
    "plt.imshow(image_green_back)"
   ]
  },
  {
   "cell_type": "code",
   "execution_count": null,
   "metadata": {},
   "outputs": [],
   "source": []
  },
  {
   "cell_type": "markdown",
   "metadata": {},
   "source": [
    "Segmentieren Sie nun an Stelle der Haut den grünen Hintergrund. Können Sie damit eine bessere Unterscheidung zwischen Hand und Hintergrund erhalten? Stellen sie die beiden Bilder nebeneinander dar."
   ]
  },
  {
   "cell_type": "code",
   "execution_count": null,
   "metadata": {},
   "outputs": [],
   "source": [
    "\n",
    "plt.subplot(1, 2, 1)\n",
    "plt.imshow(..., cmap='gray')\n",
    "plt.subplot(1, 2, 2)\n",
    "plt.imshow(..., cmap='gray')"
   ]
  },
  {
   "cell_type": "markdown",
   "metadata": {},
   "source": [
    "### Aufgabe 3: Bluescreen\n",
    "\n",
    "Blue Screening wird in der Filmindustrie verwendet um Regionen in einem Bild, zum Beispiel ein blauer Hintergrund mit einem anderen Bild zu ersetzen.\n",
    "\n",
    "Entwickeln sie ein Program, das 2 Bilder mit Hilfe dieser Technik aufeinander legt. Gehen Sie dazu wie folgt vor:\n",
    "\n",
    "* Berechnen sie für jeden Pixel die Transparenz α aufgrund des Farbwertes von I1 \n",
    "\n",
    "* Berechnen sie die Pixel des Ausgabebildes O, indem sie die beiden Bilder I1 und I2 mit Hilfe des α Werts übereinander legen. Eine mögliche Funktion dazu ist \n",
    "\n",
    "$$ O =\\alpha*I_1 +(1−\\alpha)*I_2 $$\n",
    "\n",
    "* Dies wird als Alpha Blendung bezeichnet.\n",
    "\n",
    "Ein Beispielbild mit blauem Hintergrund, sowie ein Beispiel Hintergrund werden im anschliessenden Code geladen. Allerdings haben die Bilder noch nicht die gleiche Grösse und müssen also zuerst noch skaliert werden. Sie können aber auch andere Bilder aus dem Internet verwenden."
   ]
  },
  {
   "cell_type": "code",
   "execution_count": null,
   "metadata": {},
   "outputs": [],
   "source": [
    "foreground = cv2.imread('images/2011-04-29_KG_RLB_RED_LEADER-003C_small.jpg')\n",
    "foreground = cv2.cvtColor(foreground, cv2.COLOR_BGR2RGB)\n",
    "background = cv2.imread('images/landscape-moon.jpg')\n",
    "background = cv2.cvtColor(background, cv2.COLOR_BGR2RGB)\n",
    "plt.subplot(1, 2, 1)\n",
    "plt.imshow(foreground)\n",
    "plt.subplot(1, 2, 2)\n",
    "plt.imshow(background)\n",
    "print(foreground.shape)\n",
    "print(background.shape)"
   ]
  },
  {
   "cell_type": "code",
   "execution_count": null,
   "metadata": {},
   "outputs": [],
   "source": []
  }
 ],
 "metadata": {
  "kernelspec": {
   "display_name": "Python 3",
   "language": "python",
   "name": "python3"
  },
  "language_info": {
   "codemirror_mode": {
    "name": "ipython",
    "version": 3
   },
   "file_extension": ".py",
   "mimetype": "text/x-python",
   "name": "python",
   "nbconvert_exporter": "python",
   "pygments_lexer": "ipython3",
   "version": "3.6.8"
  }
 },
 "nbformat": 4,
 "nbformat_minor": 1
}
