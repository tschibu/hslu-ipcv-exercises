{
 "cells": [
  {
   "cell_type": "markdown",
   "metadata": {},
   "source": [
    "# IPCV: Übung 1"
   ]
  },
  {
   "cell_type": "markdown",
   "metadata": {},
   "source": [
    "Übung von: Thomas Koller (bitte Namen hier anpassen)"
   ]
  },
  {
   "cell_type": "markdown",
   "metadata": {
    "collapsed": true
   },
   "source": [
    "## Intro: Einführung in OpenCV mit python"
   ]
  },
  {
   "cell_type": "markdown",
   "metadata": {},
   "source": [
    "### Installation OpenCV:\n",
    "\n",
    "OpenCV kann am einfachsten mit dem python installer pip installiert werden. Je nach Umgebung oder aufgesetzter python Version ist das `pip` oder `pip3`. Wir werden in der Vorlesung mit python Version 3.5 (oder später) arbeiten.\n",
    "\n",
    "    pip install opencv-contrib-python\n",
    "\n",
    "oder \n",
    "\n",
    "    pip3 install opencv-contrib-python\n",
    "\n",
    "Dies installiert sowohl die python Bindings für OpenCV, wie auch die eigentliche OpenCV Bibliothek.\n",
    "\n",
    "### Dokumentation\n",
    "- Documentation von OpenCV gibt es auf: https://docs.opencv.org/3.4.0/\n",
    "- Dokumentation von Python, numpy oder matplotlib sollte Über das Help Menu in Jupyter erreichbar sein\n",
    "\n",
    "\n",
    "\n",
    "### Verwendung\n",
    "Um OpenCV in Python verwenden zu können muss die Bibliothek importiert werden. Für Berechnungen und Darstellung brauchen wir auch noch numpy und matplotlib:"
   ]
  },
  {
   "cell_type": "code",
   "execution_count": null,
   "metadata": {},
   "outputs": [],
   "source": [
    "# OpenCV needs to be included first\n",
    "import cv2\n",
    "import numpy as np\n",
    "\n",
    "# for displaying images in jupyter\n",
    "import matplotlib as mpl\n",
    "from matplotlib import pyplot as plt\n",
    "\n",
    "# this makes the images a bit larger\n",
    "mpl.rcParams['figure.dpi']= 200\n",
    "plt.rcParams[\"figure.figsize\"] = (10,20)\n",
    "\n",
    "# plots directly in the notebook\n",
    "%matplotlib inline \n",
    "\n",
    "# if you have a high-dpi monitor\n",
    "%config InlineBackend.figure_format = 'retina' "
   ]
  },
  {
   "cell_type": "markdown",
   "metadata": {},
   "source": [
    "### Bilder lesen\n",
    "\n",
    "Für einige Operationen gibt es sowohl in OpenCV wie auch in anderen Python Bibliotheken implementationen. Zum Beispiel zum Lesen von Bildern. Wir werden, wenn immer möglich zuerst die OpenCV Implementation verwenden.\n",
    "\n",
    "Ein Bild kann mit dem OpenCV Befehl `imread` gelesen werden:"
   ]
  },
  {
   "cell_type": "code",
   "execution_count": null,
   "metadata": {},
   "outputs": [],
   "source": [
    "image = cv2.imread('images/lena_std.tif')"
   ]
  },
  {
   "cell_type": "markdown",
   "metadata": {},
   "source": [
    "OpenCV hat auch die Möglichkeit ein Fenster zu öffnen und ein Bild darin darzustellen. Innerhalb jupyter (i.e. im Browser) funktioniert dies aber im Allgemeinen nicht. Wir können aber ein Bild mit der Matplotlib Bibliothek darstellen."
   ]
  },
  {
   "cell_type": "code",
   "execution_count": null,
   "metadata": {},
   "outputs": [],
   "source": [
    "plt.imshow(image)"
   ]
  },
  {
   "cell_type": "markdown",
   "metadata": {},
   "source": [
    "Wie wir sehen, sieht das Bild aber falsch aus. Das liegt daran, dass OpenCV das Bild in BGR Format liest, die meisten anderen Bibliotheken aber RGB erwarten. Wir können das Bild entsprechend konvertieren und nochmals darstellen."
   ]
  },
  {
   "cell_type": "code",
   "execution_count": null,
   "metadata": {},
   "outputs": [],
   "source": [
    "image_rgb= cv2.cvtColor(image, cv2.COLOR_BGR2RGB)\n",
    "plt.imshow(image_rgb)"
   ]
  },
  {
   "cell_type": "raw",
   "metadata": {},
   "source": [
    "### Numpy arrays\n",
    "\n",
    "Intern ist ein Bild als ein 3-dimensionales Numpy Array abgelegt. Numpy Arrays sind eine Erweiterung der normalen python Arrays auf mehrere Dimensionen und ermöglichen auch einfachere Operationen und Indexierung.\n",
    "\n",
    "Ein einzelner Farbwert kann direkt über die Indexierung angesprochen werden, währendem die Verwendnung von 2 Koordinaten die RGB Werte als Array liefert."
   ]
  },
  {
   "cell_type": "code",
   "execution_count": null,
   "metadata": {},
   "outputs": [],
   "source": [
    "print(image_rgb[0, 0, 0])\n",
    "print(image_rgb[0,0])"
   ]
  },
  {
   "cell_type": "markdown",
   "metadata": {},
   "source": [
    "Es können auch direkt Bereiche angesprochen werden. Dies setzt ein Teil des Bildes auf weiss:\n"
   ]
  },
  {
   "cell_type": "code",
   "execution_count": null,
   "metadata": {},
   "outputs": [],
   "source": [
    "image_rgb[100:200, 350:400] = [255, 255, 255]\n",
    "plt.imshow(image_rgb)"
   ]
  },
  {
   "cell_type": "markdown",
   "metadata": {},
   "source": [
    "Schauen Sie sich dazu in der numpy Dokumentation die Möglichkeiten der Indexierung an. Eine Übesicht über numpy Operationen gibt es auch auf\n",
    "\n",
    "https://s3.amazonaws.com/assets.datacamp.com/blog_assets/Numpy_Python_Cheat_Sheet.pdf\n",
    "\n",
    "Beachten Sie das die erste Koordinate in der Indexierung der Reihe im numpy Array entspricht, i.e. der y Koordinate im Bild.\n",
    "\n",
    "Mit numpy Arrays kann auch ein Boolean Array als Index verwendet werden, ausserdem sind Operationen direkt auf einem ganzen Array möglich. Um zum Beispiel alle Pixel die eine Helligkeit kleiner als 100 haben, auf Schwarz zu setzen:\n"
   ]
  },
  {
   "cell_type": "code",
   "execution_count": null,
   "metadata": {},
   "outputs": [],
   "source": [
    "image_rgb = cv2.cvtColor(image, cv2.COLOR_BGR2RGB)\n",
    "image_grey = cv2.cvtColor(image, cv2.COLOR_BGR2GRAY)\n",
    "\n",
    "threshold_map = image_grey <= 128\n",
    "\n",
    "image_rgb[threshold_map] = [0, 0, 0]\n",
    "image_rgb[image_grey > 128] = [255, 255, 255]\n",
    "\n",
    "plt.imshow(image_rgb)"
   ]
  },
  {
   "cell_type": "markdown",
   "metadata": {
    "collapsed": true
   },
   "source": [
    "## Aufgabe 1: Bildmanipulationen mit OpenCV und numpy \n",
    "\n",
    "### Einführung\n",
    "\n",
    "In dieser Übung sollen einfache Bildoperationen mit OpenCV und numpy durchgeführt werden.\n",
    "\n",
    "\n",
    "### Aufgabe 1: Laden und Darstellung von Bildern\n",
    "\n",
    "Laden sie ein Bild wie oben, konvertieren sie es nach RGB und stellen Sie es dar. Sie können das gleiche, oder ein anderes Bild verwenden."
   ]
  },
  {
   "cell_type": "code",
   "execution_count": null,
   "metadata": {},
   "outputs": [],
   "source": [
    "image = "
   ]
  },
  {
   "cell_type": "markdown",
   "metadata": {},
   "source": [
    "#### Spiegelung mit OpenCV\n",
    "\n",
    "Spiegeln sie das Bild an der vertikalen und horizontalen Achse unter Benutzung von Funktionen aus OpenCV und stellen Sie die Bilder dar."
   ]
  },
  {
   "cell_type": "code",
   "execution_count": null,
   "metadata": {},
   "outputs": [],
   "source": [
    "image_mirror_vert = ...\n",
    "image_mirror_hor = ...\n",
    "plt.subplot(1, 2, 1)\n",
    "plt.imshow(image_mirror_vert)\n",
    "plt.subplot(1, 2, 2)\n",
    "plt.imshow(image_mirror_hor)"
   ]
  },
  {
   "cell_type": "markdown",
   "metadata": {},
   "source": [
    "#### Spiegeln mit numpy\n",
    "\n",
    "Sie können Bilder auch direkt mit numpy Befehlen verändern. Können sie sie auch damit spiegeln?"
   ]
  },
  {
   "cell_type": "code",
   "execution_count": null,
   "metadata": {},
   "outputs": [],
   "source": []
  },
  {
   "cell_type": "markdown",
   "metadata": {},
   "source": [
    "### Aufgabe 2: Darstellung von Grauwert Bilder\n",
    "Konvertieren Sie das Bild in ein Grauwert Bild und stellen Sie dieses dar. Per default wird ein 1-Kanal Bild farbig mit einer default Color Map dargestellt. Um das Bild wirklich in grau zu zeichnen kann der Parameter `cmap='gray'` für `imshow` mitgegeben werden."
   ]
  },
  {
   "cell_type": "code",
   "execution_count": null,
   "metadata": {},
   "outputs": [],
   "source": [
    "image_gray = ...\n"
   ]
  },
  {
   "cell_type": "markdown",
   "metadata": {},
   "source": [
    "### Aufgabe 3: Bild Kanäle\n",
    "Stellen Sie die Anteile des rot, grün und blau Kanals einzeln (als Grauwert Bild) dar. Mit subplot können sie verschiedene Bilder neben- oder untereinander darstellen."
   ]
  },
  {
   "cell_type": "code",
   "execution_count": null,
   "metadata": {},
   "outputs": [],
   "source": [
    "image_red = ...\n",
    "image_green = ...\n",
    "image_blue = ...\n",
    "plt.subplot(1, 3, 1)\n",
    "plt.imshow(image_red, cmap='gray')\n",
    "plt.subplot(1, 3, 2)\n",
    "plt.imshow(image_green, cmap='gray')\n",
    "plt.subplot(1, 3, 3)\n",
    "plt.imshow(image_blue, cmap='gray')\n",
    "    "
   ]
  },
  {
   "cell_type": "markdown",
   "metadata": {},
   "source": [
    "Erstellen Sie nun wieder ein Farbbilder aus den 3 Kanälen, sie können die Kanäle auch anders mischen. Verwenden Sie die numpy Funktion `stack`."
   ]
  },
  {
   "cell_type": "code",
   "execution_count": null,
   "metadata": {},
   "outputs": [],
   "source": [
    "image_new = ..."
   ]
  },
  {
   "cell_type": "markdown",
   "metadata": {},
   "source": [
    "### Aufgabe 4: Plot einer Zeile\n",
    "\n",
    "Stellen Sie die Bildwerte der Zeile 200 des Grauwert Bildes als Plot dar. Dazu müssen sie die Pixelwerte einer Zeile auslesen wobei Sie wiederum ein (1D) numpy Array erhalten. Dieses kann mit `plt.plot(...)` dargestellt werden. Entspricht das Ergebnis den Erwartungen?"
   ]
  },
  {
   "cell_type": "code",
   "execution_count": null,
   "metadata": {},
   "outputs": [],
   "source": [
    "line = ...\n",
    "plt.plot(line)"
   ]
  },
  {
   "cell_type": "markdown",
   "metadata": {},
   "source": [
    "### Aufgabe 5: Histogramm und Histogramm Ausgleich\n",
    "\n",
    "Das folgenden Bild hat einen schlechten Kontrast. Grauwert Bilder werden per default von OpenCV als 3-Kanal Bilder geladen. Was ist der minimale und maximale Pixelwert im Bild?"
   ]
  },
  {
   "cell_type": "code",
   "execution_count": null,
   "metadata": {},
   "outputs": [],
   "source": [
    "einstein = cv2.imread('images/EinsteinLowContrast.tif')\n",
    "einstein_grey = cv2.cvtColor(einstein, cv2.COLOR_BGR2GRAY)\n",
    "plt.imshow(einstein, cmap='gray')\n",
    "\n",
    "min = ...\n",
    "max = ...\n",
    "print('min: {}, max: {}'.format(min, max))"
   ]
  },
  {
   "cell_type": "markdown",
   "metadata": {},
   "source": [
    "Stellen Sie das Histogramm des Bildes dar. Benutzen Sie dazu die OpenCV Funktion `cv2.calcHist(...)`. Benutzen Sie die OpenCV Dokumentation um die Parameter der Funktion zu ermitteln.\n"
   ]
  },
  {
   "cell_type": "code",
   "execution_count": null,
   "metadata": {},
   "outputs": [],
   "source": [
    "hist = \n",
    "plt.plot(hist)"
   ]
  },
  {
   "cell_type": "markdown",
   "metadata": {},
   "source": [
    "Führen Sie einen Histogram Ausgleich mit der Funktion `equalizeHist(...)` durch und stellen Sie das Bild und das Histogram des veränderten Bildes dar."
   ]
  },
  {
   "cell_type": "code",
   "execution_count": null,
   "metadata": {},
   "outputs": [],
   "source": [
    "einstein_equal = \n",
    "hist2 = \n",
    "plt.subplot(1, 2, 1)\n",
    "plt.plot(hist2)\n",
    "plt.subplot(1, 2, 2)\n",
    "plt.imshow(np.stack([einstein_equal, einstein_equal, einstein_equal], axis=2))\n"
   ]
  },
  {
   "cell_type": "markdown",
   "metadata": {},
   "source": [
    "### Aufgabe 6: Punktbildfunktionen\n",
    "\n",
    "In der nächsten Zelle ist eine Funktion definert, die als Eingabe ein Bild enthält, und ein verändertes Bild zurückgibt. Ändern Sie die Funktion, sodass das Bild heller (oder dunkler) wird."
   ]
  },
  {
   "cell_type": "code",
   "execution_count": null,
   "metadata": {},
   "outputs": [],
   "source": [
    "def f(x):\n",
    "    # change function to make pixesl brighter (or darker)\n",
    "    return x"
   ]
  },
  {
   "cell_type": "code",
   "execution_count": null,
   "metadata": {},
   "outputs": [],
   "source": [
    "result = f(einstein_grey)"
   ]
  },
  {
   "cell_type": "code",
   "execution_count": null,
   "metadata": {},
   "outputs": [],
   "source": []
  },
  {
   "cell_type": "markdown",
   "metadata": {
    "collapsed": true
   },
   "source": [
    "## Aufgabe 2: Morphologische Operationen\n",
    "\n",
    "### Einführung\n",
    "\n",
    "In dieser Aufgabe wollen wir morphologische Operationen in OpenCV betrachten.\n"
   ]
  },
  {
   "cell_type": "code",
   "execution_count": null,
   "metadata": {},
   "outputs": [],
   "source": [
    "# OpenCV needs to be included first\n",
    "import cv2\n",
    "import numpy as np\n",
    "\n",
    "# for displaying images in jupyter\n",
    "\n",
    "import matplotlib as mpl\n",
    "from matplotlib import pyplot as plt\n",
    "%matplotlib inline\n",
    "mpl.rcParams['figure.dpi']= 200\n",
    "\n"
   ]
  },
  {
   "cell_type": "markdown",
   "metadata": {},
   "source": [
    "### Aufgabe 2.1: Dilate and Erode\n",
    "\n",
    "Morphologische Operationen werden typischerweise auf binären Bildern angewendet. (Die OpenGL Implementationen verwenden jeweils die Maximum Operationen zwischen Strukturelement und Bild, sodass die Operationen zumindest auch auf Grauwert Bildern durchgeführt werden können, ausserdem werden die Operationen auf allen Kanälen angewendet.)\n",
    "\n",
    "Ein Beispiel Bild steht unter images/Figuren.png zur Verfügung. Typischerweise erhalten sie ein binäres Bild sonst mit einer Schwellwert (Threshold) Operation."
   ]
  },
  {
   "cell_type": "code",
   "execution_count": null,
   "metadata": {},
   "outputs": [],
   "source": [
    "image = cv2.imread('images/Figuren.png')\n",
    "plt.imshow(image)"
   ]
  },
  {
   "cell_type": "markdown",
   "metadata": {},
   "source": [
    "\n",
    "Wenden Sie die morphologischen Operationen dilate und erode mit verschiedenen Strukturelementen und verschiedenen Grössen an. Strukturelemente können mit der Funktion `getStructuringElement` erzeugt werden. Die OpenGL Implementation erlaube es auch die Operationen mit einem Aufruf mehrmals anzuwenden."
   ]
  },
  {
   "cell_type": "code",
   "execution_count": null,
   "metadata": {},
   "outputs": [],
   "source": [
    "struct = cv2.getStructuringElement(...)\n",
    "plt.imshow(struct, cmap='gray')"
   ]
  },
  {
   "cell_type": "code",
   "execution_count": null,
   "metadata": {},
   "outputs": [],
   "source": [
    "image_dilate = \n",
    "plt.imshow(image_dilate)"
   ]
  },
  {
   "cell_type": "code",
   "execution_count": null,
   "metadata": {},
   "outputs": [],
   "source": [
    "image_erode = \n",
    "plt.imshow(image_erode)"
   ]
  },
  {
   "cell_type": "markdown",
   "metadata": {},
   "source": [
    "### Aufgabe 2.2: Opening/Closing\n",
    "\n",
    "\n",
    "Für Opening und Closing kann in OpenCV die Funktion `morphologyEx` verwendet werden. Wie wirkt sich opening and closing auf das Beispielbild aus?"
   ]
  },
  {
   "cell_type": "code",
   "execution_count": null,
   "metadata": {},
   "outputs": [],
   "source": [
    "image_open = cv2.morphologyEx(...)\n",
    "plt.imshow(image_open)  "
   ]
  },
  {
   "cell_type": "code",
   "execution_count": null,
   "metadata": {},
   "outputs": [],
   "source": [
    "image_close = cv2.morphologyEx(...)\n",
    "plt.imshow(image_close)  "
   ]
  },
  {
   "cell_type": "markdown",
   "metadata": {},
   "source": [
    "### Aufgabe 2.3: Kugeln zählen\n",
    "\n",
    "Finden Sie eine Sequenz von OpenCV Operationen die die Kugeln in folgenden Bild zählt? Als Ausgabe sollten sie dann also schlussendlich eine Zahl (zu Speichern in `nr_kugeln`) erhalten.\n",
    "\n",
    "Hinweis: Beachten Sie dass die Kugeln schwarz auf hellem Hintergrund dargestellt sind.\n"
   ]
  },
  {
   "cell_type": "code",
   "execution_count": null,
   "metadata": {},
   "outputs": [],
   "source": [
    "nr_kugeln = 0\n",
    "kugeln = cv2.imread('images/Kugeln.jpg')\n",
    "plt.imshow(kugeln)\n",
    "print('Anzahl Kugeln: {}'.format(nr_kugeln))"
   ]
  },
  {
   "cell_type": "code",
   "execution_count": null,
   "metadata": {},
   "outputs": [],
   "source": []
  }
 ],
 "metadata": {
  "kernelspec": {
   "display_name": "Python 3",
   "language": "python",
   "name": "python3"
  },
  "language_info": {
   "codemirror_mode": {
    "name": "ipython",
    "version": 3
   },
   "file_extension": ".py",
   "mimetype": "text/x-python",
   "name": "python",
   "nbconvert_exporter": "python",
   "pygments_lexer": "ipython3",
   "version": "3.6.8"
  }
 },
 "nbformat": 4,
 "nbformat_minor": 1
}
