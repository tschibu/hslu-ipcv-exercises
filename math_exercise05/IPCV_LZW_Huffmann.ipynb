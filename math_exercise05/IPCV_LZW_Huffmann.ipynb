{
 "cells": [
  {
   "cell_type": "markdown",
   "metadata": {},
   "source": [
    "# LZW Kompressions Algorithmus"
   ]
  },
  {
   "cell_type": "markdown",
   "metadata": {},
   "source": [
    "## compression"
   ]
  },
  {
   "cell_type": "code",
   "execution_count": 3,
   "metadata": {},
   "outputs": [
    {
     "name": "stdout",
     "output_type": "stream",
     "text": [
      "[INFO] Output: 114 \t r\n",
      "[INFO] Output: 97 \t a\n",
      "[INFO] Output: 98 \t b\n",
      "[INFO] Output: 97 \t a\n",
      "[INFO] Output: 114 \t r\n",
      "[INFO] Output: 258 \t ba\n",
      "[INFO] Output: 260 \t rb\n",
      "[INFO] Output: 259 \t ar\n",
      "[INFO] Output: 261 \t bar\n",
      "[INFO] Output: 97 \t a\n"
     ]
    }
   ],
   "source": [
    "data = \"rabarbarbarbara\"\n",
    "number_of_bits = 10\n",
    "maximum_table_size = pow(2,int(number_of_bits))\n",
    "\n",
    "dictionary_size = 256                   \n",
    "dictionary = {chr(i): i for i in range(dictionary_size)}  \n",
    "string = \"\"  # String is null.\n",
    "compressed_data = []  # variable to store the compressed data.\n",
    "\n",
    "for symbol in data:\n",
    "    string_plus_symbol = string + symbol\n",
    "    if string_plus_symbol in dictionary:\n",
    "        string = string_plus_symbol\n",
    "    else:\n",
    "        compressed_data.append(dictionary[string])\n",
    "        if (len(dictionary) <= maximum_table_size):\n",
    "            dictionary[string_plus_symbol] = dictionary_size\n",
    "            dictionary_size += 1\n",
    "        string = symbol\n",
    "\n",
    "if string in dictionary:\n",
    "    compressed_data.append(dictionary[string])\n",
    "\n",
    "for data in compressed_data:\n",
    "    for key, value in dictionary.items():\n",
    "        if value == data:\n",
    "             print(\"[INFO] Output: %d \\t %s\" % (data,key))\n",
    "\n"
   ]
  }
 ],
 "metadata": {
  "kernelspec": {
   "display_name": "Python 3",
   "language": "python",
   "name": "python3"
  },
  "language_info": {
   "codemirror_mode": {
    "name": "ipython",
    "version": 3
   },
   "file_extension": ".py",
   "mimetype": "text/x-python",
   "name": "python",
   "nbconvert_exporter": "python",
   "pygments_lexer": "ipython3",
   "version": "3.7.2"
  }
 },
 "nbformat": 4,
 "nbformat_minor": 2
}
